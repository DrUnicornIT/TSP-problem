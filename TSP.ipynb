{
  "nbformat": 4,
  "nbformat_minor": 0,
  "metadata": {
    "colab": {
      "provenance": [],
      "authorship_tag": "ABX9TyOEQhjY3e6nzZUA8M/yxdWa",
      "include_colab_link": true
    },
    "kernelspec": {
      "name": "python3",
      "display_name": "Python 3"
    },
    "language_info": {
      "name": "python"
    }
  },
  "cells": [
    {
      "cell_type": "markdown",
      "metadata": {
        "id": "view-in-github",
        "colab_type": "text"
      },
      "source": [
        "<a href=\"https://colab.research.google.com/github/DrUnicornIT/TSP-problem/blob/main/TSP.ipynb\" target=\"_parent\"><img src=\"https://colab.research.google.com/assets/colab-badge.svg\" alt=\"Open In Colab\"/></a>"
      ]
    },
    {
      "cell_type": "markdown",
      "source": [
        "# TSProblem \n"
      ],
      "metadata": {
        "id": "YYqvDiHSAmQl"
      }
    },
    {
      "cell_type": "code",
      "execution_count": 1,
      "metadata": {
        "id": "bMihWBEzAhbE"
      },
      "outputs": [],
      "source": [
        "import numpy as np\n",
        "import matplotlib.pyplot as plt\n",
        "from tqdm import tqdm\n",
        "plt.style.use(\"seaborn\")"
      ]
    },
    {
      "cell_type": "markdown",
      "source": [
        "## Take seed random py"
      ],
      "metadata": {
        "id": "zCeYifZtArI5"
      }
    },
    {
      "cell_type": "code",
      "source": [
        "np.random.seed(42)"
      ],
      "metadata": {
        "id": "42wju9LJAwc4"
      },
      "execution_count": 2,
      "outputs": []
    },
    {
      "cell_type": "markdown",
      "source": [
        "## Make test01: easy"
      ],
      "metadata": {
        "id": "nBmmVk_IA0jN"
      }
    },
    {
      "cell_type": "code",
      "source": [
        "cities = [0, 1, 2, 3, 4]\n",
        "\n",
        "adjacency_mat = np.asarray(\n",
        "    [\n",
        "        [0.00, 28.02, 17.12, 27.46, 46.07],\n",
        "        [28.02, 0.00, 34.00, 25.55, 25.55],\n",
        "        [17.12, 34.00, 0.00, 18.03, 57.38],\n",
        "        [27.46, 25.55, 18.03, 0.00, 51.11],\n",
        "        [46.07, 25.55, 57.38, 51.11, 0.00],\n",
        "    ]\n",
        ")"
      ],
      "metadata": {
        "id": "oRmUHYIiA9Rm"
      },
      "execution_count": 3,
      "outputs": []
    },
    {
      "cell_type": "markdown",
      "source": [
        "## Module TS"
      ],
      "metadata": {
        "id": "GpCx2NhBBGY_"
      }
    },
    {
      "cell_type": "code",
      "source": [
        "def swap(chromosome):\n",
        "    a, b = np.random.choice(len(chromosome), 2)\n",
        "    chromosome[a], chromosome[b] = (\n",
        "        chromosome[b],\n",
        "        chromosome[a]\n",
        "    )\n",
        "    return chromosome\n",
        "\n",
        "class Population():\n",
        "    def __init__(self, bag, adjacency_mat): \n",
        "        self.bag = bag  # all elements of the bag\n",
        "        self.parents = []\n",
        "        self.score = 0.00\n",
        "        self.best = None\n",
        "        self.adjacency_mat = adjacency_mat\n",
        "    def fitness(self, chromosome): # fitness function cal ans for each chromosome\n",
        "        return sum(\n",
        "            [\n",
        "                self.adjacency_mat[chromosome[i], chromosome[i + 1]]\n",
        "                for i in range(len(chromosome) - 1)\n",
        "            ]\n",
        "        )\n",
        "    def evaluate(self):\n",
        "        distances = np.asarray(\n",
        "            [self.fitness(chromosome) for chromosome in self.bag]\n",
        "        )\n",
        "        self.score = np.min(distances)\n",
        "        self.best = self.bag[distances.tolist().index(self.score)]\n",
        "        self.parents.append(self.best)\n",
        "        if False in (distances[0] == distances):\n",
        "            distances = np.max(distances) - distances\n",
        "        return distances / np.sum(distances)\n",
        "    def select(self, k=4):\n",
        "        fit = self.evaluate()\n",
        "        while len(self.parents) < k:\n",
        "            idx = np.random.randint(0, len(fit))\n",
        "            if fit[idx] > np.random.rand():\n",
        "                self.parents.append(self.bag[idx])\n",
        "        self.parents = np.asarray(self.parents)\n",
        "\n",
        "    def crossover(self, p_cross=0.1):\n",
        "        children = []\n",
        "        count, size = self.parents.shape\n",
        "        for i in range(len(self.bag)):\n",
        "            if np.random.rand() < p_cross:\n",
        "                children.append(\n",
        "                    list(self.parents[np.random.randint(count, size=1)[0]])\n",
        "                )\n",
        "            else:\n",
        "                parent1, parent2 = self.parents[\n",
        "                    np.random.randint(count, size=2), :\n",
        "                ]\n",
        "                idx = np.random.choice(range(size), size=2, replace=False)\n",
        "                start, end = min(idx), max(idx)\n",
        "                child = [None] * size\n",
        "                for i in range(start, end + 1, 1):\n",
        "                    child[i] = parent1[i]\n",
        "                pointer = 0\n",
        "                for i in range(size):\n",
        "                    if child[i] is None:\n",
        "                        while parent2[pointer] in child:\n",
        "                            pointer += 1\n",
        "                        child[i] = parent2[pointer]\n",
        "                children.append(child)\n",
        "        return children\n",
        "    def mutate(self, p_cross=0.1, p_mut=0.1):\n",
        "        next_bag = []\n",
        "        children = self.crossover(p_cross)\n",
        "        for child in children:\n",
        "            if np.random.rand() < p_mut:\n",
        "                next_bag.append(swap(child))\n",
        "            else:\n",
        "                next_bag.append(child)\n",
        "        return next_bag\n"
      ],
      "metadata": {
        "id": "me5prFV9BJQx"
      },
      "execution_count": 4,
      "outputs": []
    },
    {
      "cell_type": "markdown",
      "source": [
        "\n",
        "\n",
        "## FIT: Module genetic_algorithm\n"
      ],
      "metadata": {
        "id": "bYcDYIIZBPZE"
      }
    },
    {
      "cell_type": "code",
      "source": [
        "def init_population(cities, adjacency_mat, n_population): \n",
        "        return Population(\n",
        "            np.asarray([np.random.permutation(cities) for _ in range(n_population)]), adjacency_mat\n",
        "            )\n",
        "\n",
        "def genetic_algorithm(\n",
        "    cities,\n",
        "    adjacency_mat,\n",
        "    n_population,\n",
        "    n_iter=20,\n",
        "    selectivity=0.15,\n",
        "    p_cross=0.5,\n",
        "    p_mut=0.1,\n",
        "    print_interval=100,\n",
        "    return_history=False,\n",
        "    verbose=False,\n",
        "):\n",
        "    pop = init_population(cities, adjacency_mat, n_population)\n",
        "    best = pop.best\n",
        "    score = float(\"inf\")\n",
        "    history = []\n",
        "    for i in tqdm(range(n_iter)):\n",
        "        pop.select(n_population * selectivity)\n",
        "        history.append(pop.score)\n",
        "        if verbose:\n",
        "            print(f\"Generation {i}: {pop.score}\")\n",
        "        elif i % print_interval == 0:\n",
        "            print(pop.best)\n",
        "            print(f\"Generation {i}: {pop.score}\")\n",
        "        if pop.score < score:\n",
        "            best = pop.best\n",
        "            score = pop.score\n",
        "        children = pop.mutate(p_cross, p_mut)\n",
        "        pop = Population(children, pop.adjacency_mat)\n",
        "    if return_history:\n",
        "        return best, history\n",
        "    return Best"
      ],
      "metadata": {
        "id": "lsm-wGVLBNDK"
      },
      "execution_count": 5,
      "outputs": []
    },
    {
      "cell_type": "markdown",
      "source": [
        "## Test-basic"
      ],
      "metadata": {
        "id": "81hLWRHTYNO3"
      }
    },
    {
      "cell_type": "code",
      "source": [
        "def Test_Basic01() : \n",
        "    cities = [0, 1, 2, 3, 4]\n",
        "    adjacency_mat = np.asarray(\n",
        "        [\n",
        "            [0.00, 28.02, 17.12, 27.46, 46.07],\n",
        "            [28.02, 0.00, 34.00, 25.55, 25.55],\n",
        "            [17.12, 34.00, 0.00, 18.03, 57.38],\n",
        "            [27.46, 25.55, 18.03, 0.00, 51.11],\n",
        "            [46.07, 25.55, 57.38, 51.11, 0.00],\n",
        "        ]\n",
        "    )\n",
        "    pop = init_population(cities, adjacency_mat, 6)\n",
        "\n",
        "    print(\"bag\")\n",
        "    print(pop.bag)\n",
        "    print(\"evaluate\")\n",
        "    pop.evaluate()\n",
        "    print(\"Best\")\n",
        "    print(pop.best)\n",
        "    \n",
        "    pop.select()\n",
        "    print(\"parents\")\n",
        "    print(pop.parents)\n",
        "    print(\"mutate\")\n",
        "    print(pop.mutate())"
      ],
      "metadata": {
        "id": "Ixqah-_7YPye"
      },
      "execution_count": 6,
      "outputs": []
    },
    {
      "cell_type": "code",
      "source": [
        "Test_Basic01()"
      ],
      "metadata": {
        "colab": {
          "base_uri": "https://localhost:8080/"
        },
        "id": "O_M3O-YWYd7_",
        "outputId": "10384e06-deee-4003-8313-fb950535bb38"
      },
      "execution_count": 7,
      "outputs": [
        {
          "output_type": "stream",
          "name": "stdout",
          "text": [
            "bag\n",
            "[[1 4 2 0 3]\n",
            " [3 1 2 0 4]\n",
            " [1 0 3 4 2]\n",
            " [0 1 2 3 4]\n",
            " [0 2 3 1 4]\n",
            " [4 2 0 3 1]]\n",
            "evaluate\n",
            "Best\n",
            "[0 2 3 1 4]\n",
            "parents\n",
            "[[0 2 3 1 4]\n",
            " [0 2 3 1 4]\n",
            " [3 1 2 0 4]\n",
            " [4 2 0 3 1]]\n",
            "mutate\n",
            "[[3, 2, 0, 1, 4], [2, 3, 1, 0, 4], [0, 2, 3, 1, 4], [4, 2, 0, 3, 1], [0, 2, 3, 1, 4], [0, 2, 3, 4, 1]]\n"
          ]
        }
      ]
    },
    {
      "cell_type": "markdown",
      "source": [
        "## Test-advance"
      ],
      "metadata": {
        "id": "VIZ7OxBGYRAY"
      }
    },
    {
      "cell_type": "code",
      "source": [
        "def Test_Adv01 ():\n",
        "    def make_mat(coordinates):\n",
        "        res = [\n",
        "            [get_distance(city1, city2) for city2 in coordinates]\n",
        "        for city1 in coordinates\n",
        "        ]\n",
        "        return np.asarray(res)\n",
        "\n",
        "    def get_distance(city1, city2):\n",
        "        return np.sqrt((city1[0] - city2[0])**2 + (city1[1] - city2[1])**2)\n",
        "\n",
        "    def better_generate_cities(n_cities, factor=0.2):\n",
        "        x = np.asarray(range(int(-n_cities / 2), int(n_cities / 2) + 1, 1))\n",
        "        y = np.sqrt(n_cities ** 2 / 4 - x ** 2)\n",
        "        return np.asarray(list(zip(x, y)))\n",
        "\n",
        "    def print_path(best, city_coordinates):\n",
        "        points = city_coordinates[best]\n",
        "        x, y = zip(*points)\n",
        "        plt.plot(x, y, color=\"skyblue\", marker=\"o\")\n",
        "        plt.show()\n",
        "\n",
        "    cities = range(100)\n",
        "    city_coordinates = better_generate_cities(len(cities))\n",
        "    adjacency_mat = make_mat(city_coordinates)\n",
        "    best, history = genetic_algorithm(\n",
        "        cities, adjacency_mat, n_population=500, selectivity=0.05,\n",
        "        p_mut=0.05, p_cross=0.7, n_iter=8000, print_interval=100, verbose=False, return_history=True\n",
        "    )\n",
        "\n",
        "    plt.plot(range(len(history)), history, color=\"skyblue\")\n",
        "    plt.show()\n",
        "    print(best)\n",
        "    print(history)\n",
        "    print_path(best, city_coordinates)\n",
        "    print_path(sorted(best), city_coordinates)\n"
      ],
      "metadata": {
        "id": "0N0JTKvqYXg3"
      },
      "execution_count": 8,
      "outputs": []
    },
    {
      "cell_type": "code",
      "source": [
        "Test_Adv01()\n"
      ],
      "metadata": {
        "colab": {
          "base_uri": "https://localhost:8080/"
        },
        "id": "LBqiE79mYfp8",
        "outputId": "de646108-62fe-45b4-a05e-d32daf8fe66e"
      },
      "execution_count": null,
      "outputs": [
        {
          "output_type": "stream",
          "name": "stderr",
          "text": [
            "  0%|          | 1/8000 [00:00<35:18,  3.78it/s]"
          ]
        },
        {
          "output_type": "stream",
          "name": "stdout",
          "text": [
            "[94 87 56 63 35 24 50 76 57 93 45 82 97 95 77 79 80 58 20 52 37 85 83  3\n",
            " 17 44 67 73 74 54 66 41 16 64  5 31 36 25 89 96 61 99  7  9 60 70 22 21\n",
            " 43 28 81 34 14 46 47 72 88 65 91 39 62 49 51 84 78 48 29 18 33 68 23 12\n",
            " 13  1 90 32 75 26 42 38  8  6 86 30 15 98 27  2 10 53 92 69 55  0 71 19\n",
            " 40 59  4 11]\n",
            "Generation 0: 3136.075685414582\n"
          ]
        },
        {
          "output_type": "stream",
          "name": "stderr",
          "text": [
            "  1%|▏         | 101/8000 [00:27<17:30,  7.52it/s]"
          ]
        },
        {
          "output_type": "stream",
          "name": "stdout",
          "text": [
            "[94, 87, 80, 58, 32, 30, 99, 98, 97, 82, 85, 89, 93, 91, 90, 79, 71, 0, 15, 20, 17, 67, 73, 74, 54, 41, 16, 5, 35, 36, 61, 60, 13, 6, 7, 12, 8, 34, 42, 65, 55, 66, 56, 43, 39, 46, 63, 78, 96, 95, 84, 68, 50, 45, 37, 31, 25, 22, 21, 19, 23, 10, 9, 1, 2, 3, 27, 51, 59, 44, 52, 81, 70, 75, 76, 77, 86, 92, 64, 53, 57, 11, 4, 18, 14, 28, 72, 88, 62, 49, 47, 48, 29, 33, 24, 26, 38, 40, 69, 83]\n",
            "Generation 100: 1507.6585185637462\n"
          ]
        },
        {
          "output_type": "stream",
          "name": "stderr",
          "text": [
            "  3%|▎         | 202/8000 [00:40<17:08,  7.59it/s]"
          ]
        },
        {
          "output_type": "stream",
          "name": "stdout",
          "text": [
            "[87, 80, 58, 32, 30, 94, 97, 98, 99, 82, 85, 89, 93, 91, 90, 79, 88, 8, 9, 15, 20, 17, 67, 73, 74, 65, 54, 41, 35, 36, 61, 60, 16, 13, 6, 7, 12, 34, 55, 66, 56, 43, 39, 46, 78, 96, 95, 84, 81, 68, 50, 45, 42, 37, 31, 25, 27, 22, 21, 19, 14, 10, 0, 1, 2, 3, 5, 51, 59, 62, 63, 70, 75, 76, 77, 86, 92, 83, 64, 53, 57, 11, 4, 18, 23, 28, 29, 69, 72, 71, 52, 49, 47, 48, 44, 33, 24, 26, 38, 40]\n",
            "Generation 200: 1210.8986994820225\n"
          ]
        },
        {
          "output_type": "stream",
          "name": "stderr",
          "text": [
            "  4%|▍         | 302/8000 [00:53<16:30,  7.77it/s]"
          ]
        },
        {
          "output_type": "stream",
          "name": "stdout",
          "text": [
            "[80, 72, 51, 38, 87, 94, 97, 98, 99, 85, 89, 93, 91, 90, 82, 79, 8, 9, 15, 17, 20, 73, 74, 67, 65, 61, 54, 41, 35, 36, 60, 58, 30, 16, 4, 6, 7, 12, 34, 43, 40, 39, 46, 78, 96, 95, 92, 84, 81, 68, 50, 45, 42, 37, 31, 25, 27, 22, 21, 19, 14, 10, 0, 1, 2, 3, 5, 32, 52, 55, 56, 62, 63, 66, 70, 75, 76, 77, 86, 88, 83, 64, 53, 57, 11, 13, 18, 23, 24, 29, 71, 69, 59, 49, 47, 48, 44, 33, 28, 26]\n",
            "Generation 300: 1054.692308327317\n"
          ]
        },
        {
          "output_type": "stream",
          "name": "stderr",
          "text": [
            "  5%|▌         | 401/8000 [01:06<17:06,  7.41it/s]"
          ]
        },
        {
          "output_type": "stream",
          "name": "stdout",
          "text": [
            "[80, 79, 87, 94, 97, 98, 99, 89, 93, 91, 90, 85, 8, 9, 12, 15, 17, 20, 73, 74, 67, 65, 61, 60, 58, 54, 52, 41, 35, 36, 30, 29, 16, 4, 6, 7, 34, 38, 40, 39, 46, 59, 78, 96, 95, 92, 84, 82, 81, 72, 68, 50, 45, 42, 37, 31, 25, 22, 21, 19, 14, 10, 0, 1, 2, 3, 5, 32, 43, 55, 56, 62, 63, 66, 70, 75, 76, 77, 86, 88, 83, 71, 69, 64, 53, 49, 11, 13, 18, 23, 24, 27, 51, 57, 47, 48, 44, 33, 28, 26]\n",
            "Generation 400: 863.4713600209682\n"
          ]
        },
        {
          "output_type": "stream",
          "name": "stderr",
          "text": [
            "  5%|▌         | 422/8000 [01:09<16:13,  7.78it/s]"
          ]
        }
      ]
    }
  ]
}